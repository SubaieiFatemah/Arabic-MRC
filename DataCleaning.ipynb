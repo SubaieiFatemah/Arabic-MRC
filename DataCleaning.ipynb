{
  "nbformat": 4,
  "nbformat_minor": 0,
  "metadata": {
    "colab": {
      "name": "DataCleaning.ipynb",
      "provenance": []
    },
    "kernelspec": {
      "name": "python3",
      "display_name": "Python 3"
    },
    "language_info": {
      "name": "python"
    }
  },
  "cells": [
    {
      "cell_type": "code",
      "metadata": {
        "id": "3w6dk-5s3ZpU"
      },
      "source": [
        "import json \n",
        "import tensorflow as tf\n",
        "import os\n",
        "import requests"
      ],
      "execution_count": 1,
      "outputs": []
    },
    {
      "cell_type": "code",
      "metadata": {
        "id": "g3tF3HPS4h4N"
      },
      "source": [
        "if not os.path.exists('/content/drive/MyDrive/MRC'):\n",
        "  os.mkdir('/content/drive/MyDrive/MRC')\n",
        "  os.mkdir('/content/drive/MyDrive/MRC/squad')\n",
        "  os.mkdir('/content/drive/MyDrive/MRC/aaqad')"
      ],
      "execution_count": 2,
      "outputs": []
    },
    {
      "cell_type": "code",
      "metadata": {
        "id": "jbwU-VMm5Fli"
      },
      "source": [
        "#uncomment if you did not download the data\n",
        "#url = 'https://rajpurkar.github.io/SQuAD-explorer/dataset/'\n",
        "#for file in ['train-v2.0.json', 'dev-v2.0.json']:\n",
        "#    res = requests.get(f'{url}{file}')\n",
        "#    # write to file\n",
        "#    with open(f'/content/drive/MyDrive/MRC/squad{file}', 'wb') as f:\n",
        "#        for chunk in res.iter_content(chunk_size=4):\n",
        "#            f.write(chunk)"
      ],
      "execution_count": 3,
      "outputs": []
    },
    {
      "cell_type": "code",
      "metadata": {
        "id": "dEE8QDpwnF_W"
      },
      "source": [
        "#uncomment if you did not download the data\n",
        "#!pip install gdown\n",
        "#!gdown https://drive.google.com/uc?id=1jhUmWb9eHVATqhrWKAXxSE2gqJ53-wk6 -O AAQAD.json\n",
        "#!gdown https://drive.google.com/uc?id=1V5ziIZe__pGg14nH42WyMEFz444XPWf7 -O AAQAD\\-train.json\n",
        "#!gdown https://drive.google.com/uc?id=19nj9jiCdJlHwAfgUTJ_Z8jg1cB34yfjv -O AAQAD\\-dev.json\n",
        "#!gdown https://drive.google.com/uc?id=1z0XksuTwnqhiX1guxkmjYmoNA_JZ6SUN -O AAQAD\\-test.json\n",
        "\n"
      ],
      "execution_count": 4,
      "outputs": []
    },
    {
      "cell_type": "code",
      "metadata": {
        "id": "jMhnNCIcBMYy"
      },
      "source": [
        "with open('/content/drive/MyDrive/MRC/aaqad/AAQAD-train.json') as f:\n",
        "  aaqad_train_dict= json.load(f)"
      ],
      "execution_count": 5,
      "outputs": []
    },
    {
      "cell_type": "code",
      "metadata": {
        "colab": {
          "base_uri": "https://localhost:8080/"
        },
        "id": "a9DWuQMdqA3B",
        "outputId": "c860d0d6-be66-4111-afc5-cd553fe3cc16"
      },
      "source": [
        "#Dictionay(data)--ListOfArticles--Dictionary(Paragraphs)--ListOfContext--ListOfQAS\n",
        "print(aaqad_train_dict.keys())\n",
        "print(aaqad_train_dict['data'][0].keys())\n",
        "print(aaqad_train_dict['data'][0]['paragraphs'][0])#One Context Multiple qas(key)-contains list of qas\n",
        "print(aaqad_train_dict['data'][0]['paragraphs'][0]['qas'][0])\n",
        "question = aaqad_train_dict['data'][0]['paragraphs'][0]['qas'][0]['question']\n",
        "id =aaqad_train_dict['data'][0]['paragraphs'][0]['qas'][0]['id']\n",
        "answer =aaqad_train_dict['data'][0]['paragraphs'][0]['qas'][0]['answers'][0]['text']\n",
        "answer_start = aaqad_train_dict['data'][0]['paragraphs'][0]['qas'][0]['answers'][0]['answer_start']\n",
        "print(f'Question: {question} it is id {id} Answer: {answer} Start Span: {answer_start}')"
      ],
      "execution_count": 6,
      "outputs": [
        {
          "output_type": "stream",
          "name": "stdout",
          "text": [
            "dict_keys(['version', 'data'])\n",
            "dict_keys(['title', 'paragraphs'])\n",
            "{'qas': [{'question': 'ما الذي تعتمد عليه بعض الطيور الكبيرة ذات الجناحين لمساعدتها على الارتفاع؟', 'id': 2728, 'answers': [{'text': 'تصل المسافة التي', 'answer_start': 211}], 'is_impossible': False}, {'question': 'متى تهاجر الطيور الجارحة الكبيرة؟', 'id': 2729, 'answers': [{'text': 'ليلا ونهارا،', 'answer_start': 433}], 'is_impossible': False}, {'question': 'ما مقدار وزن أجسامهم التي يفقدها طراد العسل أثناء الهجرة؟', 'id': 2730, 'answers': [{'text': 'إلى 50', 'answer_start': 245}], 'is_impossible': False}], 'context': 'هجرة الطيور هي رحلة موسمية تقوم بها أسراب من الطيور قاطعين مسافات هائلة عبر الصحاري وقمم الجبال العالية والمحيطات. تصل هذه الطيور إلى هدفها في وقت واحد يتطابق مع الوقت التي وصلت فيه في العام السابق. بعض الأنواع تصل المسافة التي تقطعها في هجرتها إلى 50 الف كيلومتر في السنة، البعض الآخر تستمر بالطيران بدون انقطاع لمدة تصل إلى 100 ساعة مع منظومة تحديد دقيقة للاتجاهات عند تلك الطيور. بعض الأنواع لها القدرة على الطيران لمسافات طويلة، ليلا ونهارا، دون توقف. هذه القدرة هامة للغاية للتمكن من عبور الصحاري الكبرى الممتدة لالاف الكيلومترات بدون طعام أو ماء. قبل بدء رحلتهم لعبور الصحراء تقوم الطيور بأكل طعام غني بالدهون مثل حبوب الذرة.\\n'}\n",
            "{'question': 'ما الذي تعتمد عليه بعض الطيور الكبيرة ذات الجناحين لمساعدتها على الارتفاع؟', 'id': 2728, 'answers': [{'text': 'تصل المسافة التي', 'answer_start': 211}], 'is_impossible': False}\n",
            "Question: ما الذي تعتمد عليه بعض الطيور الكبيرة ذات الجناحين لمساعدتها على الارتفاع؟ it is id 2728 Answer: تصل المسافة التي Start Span: 211\n"
          ]
        }
      ]
    },
    {
      "cell_type": "code",
      "metadata": {
        "id": "l1uc5HhHqtyK"
      },
      "source": [
        "def Read_AAQAD(path):\n",
        "  contexts =[]\n",
        "  answers =[]\n",
        "  questions =[]\n",
        "  with open(path) as f:\n",
        "    aaqad_dict = json.load(f)\n",
        "    for article in aaqad_dict['data']:#through each article\n",
        "      for passage in article['paragraphs']:\n",
        "        context = passage['context']\n",
        "        for qa in passage['qas']:\n",
        "          question = qa['question']\n",
        "          if 'plausible_answers' in qa.keys():\n",
        "            access = 'plausible_answers'\n",
        "          else:\n",
        "            access = 'answers'\n",
        "          for answer in qa[access]:\n",
        "            contexts.append(context)\n",
        "            answers.append(answer)\n",
        "            questions.append(question)\n",
        "  return contexts,questions,answers"
      ],
      "execution_count": 7,
      "outputs": []
    },
    {
      "cell_type": "code",
      "metadata": {
        "id": "OU-Ze4N8viwz"
      },
      "source": [
        "train_contexts, train_questions, train_answers = Read_AAQAD('/content/drive/MyDrive/MRC/aaqad/AAQAD-train.json')\n",
        "val_contexts, val_questions, val_answers = Read_AAQAD('/content/drive/MyDrive/MRC/aaqad/AAQAD-dev.json')\n",
        "test_contexts, test_questions, test_answers = Read_AAQAD('/content/drive/MyDrive/MRC/aaqad/AAQAD-test.json')"
      ],
      "execution_count": 8,
      "outputs": []
    },
    {
      "cell_type": "code",
      "metadata": {
        "colab": {
          "base_uri": "https://localhost:8080/"
        },
        "id": "SIJ6stKS03L7",
        "outputId": "7849fcd1-4a79-4511-a433-96e9225a24d3"
      },
      "source": [
        "print(len(train_contexts))\n",
        "print(len(val_contexts))\n",
        "print(len(test_contexts))"
      ],
      "execution_count": 9,
      "outputs": [
        {
          "output_type": "stream",
          "name": "stdout",
          "text": [
            "12629\n",
            "1926\n",
            "3262\n"
          ]
        }
      ]
    },
    {
      "cell_type": "code",
      "metadata": {
        "colab": {
          "base_uri": "https://localhost:8080/",
          "height": 108
        },
        "id": "ft4mBkwd0406",
        "outputId": "21d8d9c3-a11b-41f5-f689-e0a73169f431"
      },
      "source": [
        "train_contexts[1]"
      ],
      "execution_count": 10,
      "outputs": [
        {
          "output_type": "execute_result",
          "data": {
            "application/vnd.google.colaboratory.intrinsic+json": {
              "type": "string"
            },
            "text/plain": [
              "'هجرة الطيور هي رحلة موسمية تقوم بها أسراب من الطيور قاطعين مسافات هائلة عبر الصحاري وقمم الجبال العالية والمحيطات. تصل هذه الطيور إلى هدفها في وقت واحد يتطابق مع الوقت التي وصلت فيه في العام السابق. بعض الأنواع تصل المسافة التي تقطعها في هجرتها إلى 50 الف كيلومتر في السنة، البعض الآخر تستمر بالطيران بدون انقطاع لمدة تصل إلى 100 ساعة مع منظومة تحديد دقيقة للاتجاهات عند تلك الطيور. بعض الأنواع لها القدرة على الطيران لمسافات طويلة، ليلا ونهارا، دون توقف. هذه القدرة هامة للغاية للتمكن من عبور الصحاري الكبرى الممتدة لالاف الكيلومترات بدون طعام أو ماء. قبل بدء رحلتهم لعبور الصحراء تقوم الطيور بأكل طعام غني بالدهون مثل حبوب الذرة.\\n'"
            ]
          },
          "metadata": {},
          "execution_count": 10
        }
      ]
    },
    {
      "cell_type": "code",
      "metadata": {
        "colab": {
          "base_uri": "https://localhost:8080/"
        },
        "id": "OopoSa5c2F0I",
        "outputId": "41ac2f72-d08d-4625-fde0-164003cf0a36"
      },
      "source": [
        "train_answers[1]"
      ],
      "execution_count": 11,
      "outputs": [
        {
          "output_type": "execute_result",
          "data": {
            "text/plain": [
              "{'answer_start': 433, 'text': 'ليلا ونهارا،'}"
            ]
          },
          "metadata": {},
          "execution_count": 11
        }
      ]
    },
    {
      "cell_type": "code",
      "metadata": {
        "colab": {
          "base_uri": "https://localhost:8080/"
        },
        "id": "GRV9KQOM7jk8",
        "outputId": "2d7842dd-0083-41c7-8494-1a86ea2fc64b"
      },
      "source": [
        "answer = train_answers[1]['text']\n",
        "start_idx =train_answers[1]['answer_start']\n",
        "end_idx = start_idx + len(answer)\n",
        "print(train_contexts[1][start_idx:end_idx])\n",
        "print(answer)\n",
        "print(answer == train_contexts[1][start_idx:end_idx])"
      ],
      "execution_count": 12,
      "outputs": [
        {
          "output_type": "stream",
          "name": "stdout",
          "text": [
            "ليلا ونهارا،\n",
            "ليلا ونهارا،\n",
            "True\n"
          ]
        }
      ]
    },
    {
      "cell_type": "code",
      "metadata": {
        "id": "6wEMzHfZ2aie"
      },
      "source": [
        "def add_end_idx(answers, contexts):\n",
        "  answers_idxs=[]\n",
        "  s_token=-1\n",
        "  e_token=-1\n",
        "  cnt = 0\n",
        "  for answer,context in zip(answers,contexts):\n",
        "    text = answer['text']\n",
        "    start_idx = answer['answer_start']\n",
        "    end_idx = start_idx + len(text)\n",
        "    if text != context[start_idx:end_idx]:\n",
        "      if text != context[start_idx-1:end_idx-1] or text != context[start_idx-2:end_idx-2]:\n",
        "        cnt = cnt+1\n",
        "    answers_idxs.append([start_idx,end_idx])\n",
        "  return cnt, answers_idxs"
      ],
      "execution_count": 13,
      "outputs": []
    },
    {
      "cell_type": "code",
      "metadata": {
        "colab": {
          "base_uri": "https://localhost:8080/"
        },
        "id": "xYl_ENiD-I_a",
        "outputId": "ea83bd69-fb74-4d7a-f4c1-e8ceb44c3df8"
      },
      "source": [
        "error_train, train_span = add_end_idx(train_answers, train_contexts)\n",
        "error_val, val_span = add_end_idx(val_answers, val_contexts)\n",
        "error_test, test_span = add_end_idx(test_answers, test_contexts)\n",
        "total_error = error_train +error_val + error_test\n",
        "ratio = total_error/(len(train_answers)+len(val_answers)+len(test_answers))\n",
        "print(ratio)"
      ],
      "execution_count": 14,
      "outputs": [
        {
          "output_type": "stream",
          "name": "stdout",
          "text": [
            "0.0035920749845653028\n"
          ]
        }
      ]
    }
  ]
}