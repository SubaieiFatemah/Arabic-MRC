{
  "nbformat": 4,
  "nbformat_minor": 0,
  "metadata": {
    "colab": {
      "name": "DataCleaning_V2.ipynb",
      "provenance": []
    },
    "kernelspec": {
      "name": "python3",
      "display_name": "Python 3"
    },
    "language_info": {
      "name": "python"
    }
  },
  "cells": [
    {
      "cell_type": "code",
      "metadata": {
        "colab": {
          "base_uri": "https://localhost:8080/"
        },
        "id": "aN_CL5J41Au0",
        "outputId": "e423f0db-f0b1-4268-dbcd-a7b8ef34beac"
      },
      "source": [
        "!pip install transformers"
      ],
      "execution_count": 1,
      "outputs": [
        {
          "output_type": "stream",
          "name": "stdout",
          "text": [
            "Requirement already satisfied: transformers in /usr/local/lib/python3.7/dist-packages (4.12.3)\n",
            "Requirement already satisfied: filelock in /usr/local/lib/python3.7/dist-packages (from transformers) (3.3.0)\n",
            "Requirement already satisfied: pyyaml>=5.1 in /usr/local/lib/python3.7/dist-packages (from transformers) (6.0)\n",
            "Requirement already satisfied: packaging>=20.0 in /usr/local/lib/python3.7/dist-packages (from transformers) (21.0)\n",
            "Requirement already satisfied: regex!=2019.12.17 in /usr/local/lib/python3.7/dist-packages (from transformers) (2019.12.20)\n",
            "Requirement already satisfied: requests in /usr/local/lib/python3.7/dist-packages (from transformers) (2.23.0)\n",
            "Requirement already satisfied: tqdm>=4.27 in /usr/local/lib/python3.7/dist-packages (from transformers) (4.62.3)\n",
            "Requirement already satisfied: huggingface-hub<1.0,>=0.1.0 in /usr/local/lib/python3.7/dist-packages (from transformers) (0.1.1)\n",
            "Requirement already satisfied: numpy>=1.17 in /usr/local/lib/python3.7/dist-packages (from transformers) (1.19.5)\n",
            "Requirement already satisfied: tokenizers<0.11,>=0.10.1 in /usr/local/lib/python3.7/dist-packages (from transformers) (0.10.3)\n",
            "Requirement already satisfied: importlib-metadata in /usr/local/lib/python3.7/dist-packages (from transformers) (4.8.1)\n",
            "Requirement already satisfied: sacremoses in /usr/local/lib/python3.7/dist-packages (from transformers) (0.0.46)\n",
            "Requirement already satisfied: typing-extensions>=3.7.4.3 in /usr/local/lib/python3.7/dist-packages (from huggingface-hub<1.0,>=0.1.0->transformers) (3.7.4.3)\n",
            "Requirement already satisfied: pyparsing>=2.0.2 in /usr/local/lib/python3.7/dist-packages (from packaging>=20.0->transformers) (2.4.7)\n",
            "Requirement already satisfied: zipp>=0.5 in /usr/local/lib/python3.7/dist-packages (from importlib-metadata->transformers) (3.6.0)\n",
            "Requirement already satisfied: idna<3,>=2.5 in /usr/local/lib/python3.7/dist-packages (from requests->transformers) (2.10)\n",
            "Requirement already satisfied: urllib3!=1.25.0,!=1.25.1,<1.26,>=1.21.1 in /usr/local/lib/python3.7/dist-packages (from requests->transformers) (1.24.3)\n",
            "Requirement already satisfied: chardet<4,>=3.0.2 in /usr/local/lib/python3.7/dist-packages (from requests->transformers) (3.0.4)\n",
            "Requirement already satisfied: certifi>=2017.4.17 in /usr/local/lib/python3.7/dist-packages (from requests->transformers) (2021.5.30)\n",
            "Requirement already satisfied: click in /usr/local/lib/python3.7/dist-packages (from sacremoses->transformers) (7.1.2)\n",
            "Requirement already satisfied: joblib in /usr/local/lib/python3.7/dist-packages (from sacremoses->transformers) (1.0.1)\n",
            "Requirement already satisfied: six in /usr/local/lib/python3.7/dist-packages (from sacremoses->transformers) (1.15.0)\n"
          ]
        }
      ]
    },
    {
      "cell_type": "code",
      "metadata": {
        "id": "3w6dk-5s3ZpU"
      },
      "source": [
        "import json \n",
        "import tensorflow as tf\n",
        "import os\n",
        "import requests"
      ],
      "execution_count": 2,
      "outputs": []
    },
    {
      "cell_type": "code",
      "metadata": {
        "colab": {
          "base_uri": "https://localhost:8080/"
        },
        "id": "g3GWvsSKzeZR",
        "outputId": "ba9b3ca9-7e13-4cf2-e3e2-3cfffb052002"
      },
      "source": [
        "from google.colab import drive\n",
        "drive.mount('/content/drive')"
      ],
      "execution_count": 3,
      "outputs": [
        {
          "output_type": "stream",
          "name": "stdout",
          "text": [
            "Drive already mounted at /content/drive; to attempt to forcibly remount, call drive.mount(\"/content/drive\", force_remount=True).\n"
          ]
        }
      ]
    },
    {
      "cell_type": "code",
      "metadata": {
        "id": "g3tF3HPS4h4N"
      },
      "source": [
        "if not os.path.exists('/content/drive/MyDrive/MRC'):\n",
        "  os.mkdir('/content/drive/MyDrive/MRC')\n",
        "  os.mkdir('/content/drive/MyDrive/MRC/squad')\n",
        "  os.mkdir('/content/drive/MyDrive/MRC/aaqad')"
      ],
      "execution_count": 4,
      "outputs": []
    },
    {
      "cell_type": "code",
      "metadata": {
        "id": "jbwU-VMm5Fli"
      },
      "source": [
        "#uncomment if you did not download the data\n",
        "#url = 'https://rajpurkar.github.io/SQuAD-explorer/dataset/'\n",
        "#for file in ['train-v2.0.json', 'dev-v2.0.json']:\n",
        "#    res = requests.get(f'{url}{file}')\n",
        "#    # write to file\n",
        "#    with open(f'/content/drive/MyDrive/MRC/squad{file}', 'wb') as f:\n",
        "#        for chunk in res.iter_content(chunk_size=4):\n",
        "#            f.write(chunk)"
      ],
      "execution_count": 5,
      "outputs": []
    },
    {
      "cell_type": "code",
      "metadata": {
        "id": "dEE8QDpwnF_W"
      },
      "source": [
        "#uncomment if you did not download the data\n",
        "#!pip install gdown\n",
        "#!gdown https://drive.google.com/uc?id=1jhUmWb9eHVATqhrWKAXxSE2gqJ53-wk6 -O AAQAD.json\n",
        "#!gdown https://drive.google.com/uc?id=1V5ziIZe__pGg14nH42WyMEFz444XPWf7 -O AAQAD\\-train.json\n",
        "#!gdown https://drive.google.com/uc?id=19nj9jiCdJlHwAfgUTJ_Z8jg1cB34yfjv -O AAQAD\\-dev.json\n",
        "#!gdown https://drive.google.com/uc?id=1z0XksuTwnqhiX1guxkmjYmoNA_JZ6SUN -O AAQAD\\-test.json\n",
        "\n"
      ],
      "execution_count": 6,
      "outputs": []
    },
    {
      "cell_type": "code",
      "metadata": {
        "id": "jMhnNCIcBMYy"
      },
      "source": [
        "with open('/content/drive/MyDrive/MRC/aaqad/AAQAD-train.json') as f:\n",
        "  aaqad_train_dict= json.load(f)"
      ],
      "execution_count": 7,
      "outputs": []
    },
    {
      "cell_type": "code",
      "metadata": {
        "colab": {
          "base_uri": "https://localhost:8080/"
        },
        "id": "a9DWuQMdqA3B",
        "outputId": "be8ff3e7-2aeb-4873-9595-c065f0e3d331"
      },
      "source": [
        "#Dictionay(data)--ListOfArticles--Dictionary(Paragraphs)--ListOfContext--ListOfQAS\n",
        "print(aaqad_train_dict.keys())\n",
        "print(aaqad_train_dict['data'][0].keys())\n",
        "print(aaqad_train_dict['data'][0]['paragraphs'][0])#One Context Multiple qas(key)-contains list of qas\n",
        "print(aaqad_train_dict['data'][0]['paragraphs'][0]['qas'][0])\n",
        "question = aaqad_train_dict['data'][0]['paragraphs'][0]['qas'][0]['question']\n",
        "id =aaqad_train_dict['data'][0]['paragraphs'][0]['qas'][0]['id']\n",
        "answer =aaqad_train_dict['data'][0]['paragraphs'][0]['qas'][0]['answers'][0]['text']\n",
        "answer_start = aaqad_train_dict['data'][0]['paragraphs'][0]['qas'][0]['answers'][0]['answer_start']\n",
        "print(f'Question: {question} it is id {id} Answer: {answer} Start Span: {answer_start}')"
      ],
      "execution_count": 8,
      "outputs": [
        {
          "output_type": "stream",
          "name": "stdout",
          "text": [
            "dict_keys(['version', 'data'])\n",
            "dict_keys(['title', 'paragraphs'])\n",
            "{'qas': [{'question': 'ما الذي تعتمد عليه بعض الطيور الكبيرة ذات الجناحين لمساعدتها على الارتفاع؟', 'id': 2728, 'answers': [{'text': 'تصل المسافة التي', 'answer_start': 211}], 'is_impossible': False}, {'question': 'متى تهاجر الطيور الجارحة الكبيرة؟', 'id': 2729, 'answers': [{'text': 'ليلا ونهارا،', 'answer_start': 433}], 'is_impossible': False}, {'question': 'ما مقدار وزن أجسامهم التي يفقدها طراد العسل أثناء الهجرة؟', 'id': 2730, 'answers': [{'text': 'إلى 50', 'answer_start': 245}], 'is_impossible': False}], 'context': 'هجرة الطيور هي رحلة موسمية تقوم بها أسراب من الطيور قاطعين مسافات هائلة عبر الصحاري وقمم الجبال العالية والمحيطات. تصل هذه الطيور إلى هدفها في وقت واحد يتطابق مع الوقت التي وصلت فيه في العام السابق. بعض الأنواع تصل المسافة التي تقطعها في هجرتها إلى 50 الف كيلومتر في السنة، البعض الآخر تستمر بالطيران بدون انقطاع لمدة تصل إلى 100 ساعة مع منظومة تحديد دقيقة للاتجاهات عند تلك الطيور. بعض الأنواع لها القدرة على الطيران لمسافات طويلة، ليلا ونهارا، دون توقف. هذه القدرة هامة للغاية للتمكن من عبور الصحاري الكبرى الممتدة لالاف الكيلومترات بدون طعام أو ماء. قبل بدء رحلتهم لعبور الصحراء تقوم الطيور بأكل طعام غني بالدهون مثل حبوب الذرة.\\n'}\n",
            "{'question': 'ما الذي تعتمد عليه بعض الطيور الكبيرة ذات الجناحين لمساعدتها على الارتفاع؟', 'id': 2728, 'answers': [{'text': 'تصل المسافة التي', 'answer_start': 211}], 'is_impossible': False}\n",
            "Question: ما الذي تعتمد عليه بعض الطيور الكبيرة ذات الجناحين لمساعدتها على الارتفاع؟ it is id 2728 Answer: تصل المسافة التي Start Span: 211\n"
          ]
        }
      ]
    },
    {
      "cell_type": "code",
      "metadata": {
        "id": "l1uc5HhHqtyK"
      },
      "source": [
        "def Read_AAQAD(path):\n",
        "  contexts =[]\n",
        "  answers =[]\n",
        "  questions =[]\n",
        "  with open(path) as f:\n",
        "    aaqad_dict = json.load(f)\n",
        "    for article in aaqad_dict['data']:#through each article\n",
        "      for passage in article['paragraphs']:\n",
        "        context = passage['context']\n",
        "        for qa in passage['qas']:\n",
        "          question = qa['question']\n",
        "          if 'plausible_answers' in qa.keys():\n",
        "            access = 'plausible_answers'\n",
        "          else:\n",
        "            access = 'answers'\n",
        "          for answer in qa[access]:\n",
        "            contexts.append(context)\n",
        "            answers.append(answer)\n",
        "            questions.append(question)\n",
        "  return contexts,questions,answers"
      ],
      "execution_count": 9,
      "outputs": []
    },
    {
      "cell_type": "code",
      "metadata": {
        "id": "OU-Ze4N8viwz"
      },
      "source": [
        "train_contexts, train_questions, train_answers = Read_AAQAD('/content/drive/MyDrive/MRC/aaqad/AAQAD-train.json')\n",
        "val_contexts, val_questions, val_answers = Read_AAQAD('/content/drive/MyDrive/MRC/aaqad/AAQAD-dev.json')\n",
        "test_contexts, test_questions, test_answers = Read_AAQAD('/content/drive/MyDrive/MRC/aaqad/AAQAD-test.json')"
      ],
      "execution_count": 10,
      "outputs": []
    },
    {
      "cell_type": "code",
      "metadata": {
        "colab": {
          "base_uri": "https://localhost:8080/"
        },
        "id": "SIJ6stKS03L7",
        "outputId": "d4578fff-7124-434d-f796-885a550873d5"
      },
      "source": [
        "print(len(train_contexts))\n",
        "print(len(val_contexts))\n",
        "print(len(test_contexts))"
      ],
      "execution_count": 11,
      "outputs": [
        {
          "output_type": "stream",
          "name": "stdout",
          "text": [
            "12629\n",
            "1926\n",
            "3262\n"
          ]
        }
      ]
    },
    {
      "cell_type": "code",
      "metadata": {
        "colab": {
          "base_uri": "https://localhost:8080/",
          "height": 90
        },
        "id": "ft4mBkwd0406",
        "outputId": "0d0f860b-ef9d-4ac3-801a-c2bb3130dd50"
      },
      "source": [
        "train_contexts[1]"
      ],
      "execution_count": 12,
      "outputs": [
        {
          "output_type": "execute_result",
          "data": {
            "application/vnd.google.colaboratory.intrinsic+json": {
              "type": "string"
            },
            "text/plain": [
              "'هجرة الطيور هي رحلة موسمية تقوم بها أسراب من الطيور قاطعين مسافات هائلة عبر الصحاري وقمم الجبال العالية والمحيطات. تصل هذه الطيور إلى هدفها في وقت واحد يتطابق مع الوقت التي وصلت فيه في العام السابق. بعض الأنواع تصل المسافة التي تقطعها في هجرتها إلى 50 الف كيلومتر في السنة، البعض الآخر تستمر بالطيران بدون انقطاع لمدة تصل إلى 100 ساعة مع منظومة تحديد دقيقة للاتجاهات عند تلك الطيور. بعض الأنواع لها القدرة على الطيران لمسافات طويلة، ليلا ونهارا، دون توقف. هذه القدرة هامة للغاية للتمكن من عبور الصحاري الكبرى الممتدة لالاف الكيلومترات بدون طعام أو ماء. قبل بدء رحلتهم لعبور الصحراء تقوم الطيور بأكل طعام غني بالدهون مثل حبوب الذرة.\\n'"
            ]
          },
          "metadata": {},
          "execution_count": 12
        }
      ]
    },
    {
      "cell_type": "code",
      "metadata": {
        "colab": {
          "base_uri": "https://localhost:8080/"
        },
        "id": "OopoSa5c2F0I",
        "outputId": "ab0dab4c-e6e5-49b9-a849-99a3a56cd7f7"
      },
      "source": [
        "train_answers[1]"
      ],
      "execution_count": 13,
      "outputs": [
        {
          "output_type": "execute_result",
          "data": {
            "text/plain": [
              "{'answer_start': 433, 'text': 'ليلا ونهارا،'}"
            ]
          },
          "metadata": {},
          "execution_count": 13
        }
      ]
    },
    {
      "cell_type": "code",
      "metadata": {
        "colab": {
          "base_uri": "https://localhost:8080/"
        },
        "id": "GRV9KQOM7jk8",
        "outputId": "48c92266-b980-4334-aada-63a26fadeaed"
      },
      "source": [
        "answer = train_answers[1]['text']\n",
        "start_idx =train_answers[1]['answer_start']\n",
        "end_idx = start_idx + len(answer)\n",
        "print(train_contexts[1][start_idx:end_idx])\n",
        "print(answer)\n",
        "print(answer == train_contexts[1][start_idx:end_idx])"
      ],
      "execution_count": 14,
      "outputs": [
        {
          "output_type": "stream",
          "name": "stdout",
          "text": [
            "ليلا ونهارا،\n",
            "ليلا ونهارا،\n",
            "True\n"
          ]
        }
      ]
    },
    {
      "cell_type": "code",
      "metadata": {
        "id": "6wEMzHfZ2aie"
      },
      "source": [
        "def add_end_idx(answers, contexts):\n",
        "  cnt = 0\n",
        "  for answer,context in zip(answers,contexts):\n",
        "    text = answer['text']\n",
        "    start_idx = answer['answer_start']\n",
        "    end_idx = start_idx + len(text)\n",
        "    flag = True\n",
        "    if context[start_idx:end_idx] == text:\n",
        "      answer['answer_end'] = end_idx\n",
        "      flag = False\n",
        "    else:\n",
        "      for i in range(1,3):\n",
        "        if context[start_idx-i:end_idx-i] == text:\n",
        "          answer['answer_start'] = start_idx - i\n",
        "          answer['answer_end'] = end_idx - i\n",
        "          flag = False\n",
        "    if flag == True:\n",
        "      cnt = cnt+1\n",
        "  return cnt"
      ],
      "execution_count": 15,
      "outputs": []
    },
    {
      "cell_type": "code",
      "metadata": {
        "colab": {
          "base_uri": "https://localhost:8080/"
        },
        "id": "xYl_ENiD-I_a",
        "outputId": "b77e339f-d3b4-4c35-f6aa-e558adf0a10a"
      },
      "source": [
        "error_train = add_end_idx(train_answers, train_contexts)\n",
        "error_val = add_end_idx(val_answers, val_contexts)\n",
        "error_test = add_end_idx(test_answers, test_contexts)\n",
        "total_error = error_train +error_val + error_test\n",
        "ratio = total_error/(len(train_answers)+len(val_answers)+len(test_answers))\n",
        "print(f\"percentage of span's error {ratio}\")"
      ],
      "execution_count": 16,
      "outputs": [
        {
          "output_type": "stream",
          "name": "stdout",
          "text": [
            "percentage of span's error 0.0035920749845653028\n"
          ]
        }
      ]
    },
    {
      "cell_type": "code",
      "metadata": {
        "id": "r2zk9g4_0HYJ"
      },
      "source": [
        "from transformers import AutoTokenizer\n",
        "\n",
        "arabert_tokenizer = AutoTokenizer.from_pretrained(\"aubmindlab/bert-base-arabertv02\",do_lower_case=False)\n",
        "\n",
        "train_encodings = arabert_tokenizer(train_contexts, train_questions, truncation=True, padding=True)\n",
        "val_encodings = arabert_tokenizer(val_contexts, val_questions, truncation=True, padding=True)"
      ],
      "execution_count": 18,
      "outputs": []
    },
    {
      "cell_type": "code",
      "metadata": {
        "colab": {
          "base_uri": "https://localhost:8080/"
        },
        "id": "CjcJpMAn09Rz",
        "outputId": "034dd5c2-0ce7-4e0f-c9a2-a8566394f7a8"
      },
      "source": [
        "train_encodings.keys()"
      ],
      "execution_count": 19,
      "outputs": [
        {
          "output_type": "execute_result",
          "data": {
            "text/plain": [
              "dict_keys(['input_ids', 'token_type_ids', 'attention_mask'])"
            ]
          },
          "metadata": {},
          "execution_count": 19
        }
      ]
    },
    {
      "cell_type": "code",
      "metadata": {
        "id": "reMjGAnH2twj",
        "colab": {
          "base_uri": "https://localhost:8080/"
        },
        "outputId": "a2d4dc5f-4f73-46d5-b21c-31b171b1de32"
      },
      "source": [
        "type(train_encodings['input_ids'])"
      ],
      "execution_count": 20,
      "outputs": [
        {
          "output_type": "execute_result",
          "data": {
            "text/plain": [
              "list"
            ]
          },
          "metadata": {},
          "execution_count": 20
        }
      ]
    },
    {
      "cell_type": "code",
      "metadata": {
        "colab": {
          "base_uri": "https://localhost:8080/"
        },
        "id": "If4LPHfK4KhZ",
        "outputId": "3ba272b9-886d-4d21-f9eb-5afca94ea56c"
      },
      "source": [
        "train_encodings['input_ids'][0]"
      ],
      "execution_count": 24,
      "outputs": [
        {
          "output_type": "execute_result",
          "data": {
            "text/plain": [
              "[2,\n",
              " 17695,\n",
              " 8602,\n",
              " 634,\n",
              " 5294,\n",
              " 51029,\n",
              " 2103,\n",
              " 816,\n",
              " 5341,\n",
              " 324,\n",
              " 306,\n",
              " 8602,\n",
              " 21208,\n",
              " 307,\n",
              " 33002,\n",
              " 11160,\n",
              " 1115,\n",
              " 857,\n",
              " 541,\n",
              " 59021,\n",
              " 201,\n",
              " 13872,\n",
              " 6887,\n",
              " 30177,\n",
              " 302,\n",
              " 20,\n",
              " 2797,\n",
              " 450,\n",
              " 8602,\n",
              " 360,\n",
              " 14419,\n",
              " 305,\n",
              " 1330,\n",
              " 1411,\n",
              " 54257,\n",
              " 354,\n",
              " 1148,\n",
              " 376,\n",
              " 3717,\n",
              " 903,\n",
              " 305,\n",
              " 470,\n",
              " 1251,\n",
              " 20,\n",
              " 669,\n",
              " 14771,\n",
              " 2797,\n",
              " 12951,\n",
              " 376,\n",
              " 22787,\n",
              " 310,\n",
              " 305,\n",
              " 10598,\n",
              " 551,\n",
              " 360,\n",
              " 2182,\n",
              " 357,\n",
              " 11649,\n",
              " 305,\n",
              " 2733,\n",
              " 103,\n",
              " 2227,\n",
              " 1751,\n",
              " 6631,\n",
              " 59755,\n",
              " 3340,\n",
              " 10150,\n",
              " 2260,\n",
              " 2797,\n",
              " 360,\n",
              " 2638,\n",
              " 2933,\n",
              " 354,\n",
              " 8357,\n",
              " 3007,\n",
              " 3934,\n",
              " 6418,\n",
              " 26905,\n",
              " 690,\n",
              " 968,\n",
              " 8602,\n",
              " 20,\n",
              " 669,\n",
              " 14771,\n",
              " 884,\n",
              " 5317,\n",
              " 323,\n",
              " 4811,\n",
              " 57673,\n",
              " 2980,\n",
              " 103,\n",
              " 9620,\n",
              " 47906,\n",
              " 103,\n",
              " 873,\n",
              " 4913,\n",
              " 20,\n",
              " 450,\n",
              " 5317,\n",
              " 9275,\n",
              " 5070,\n",
              " 59029,\n",
              " 306,\n",
              " 14516,\n",
              " 857,\n",
              " 541,\n",
              " 2945,\n",
              " 17415,\n",
              " 22649,\n",
              " 350,\n",
              " 51231,\n",
              " 3340,\n",
              " 15564,\n",
              " 440,\n",
              " 10984,\n",
              " 20,\n",
              " 600,\n",
              " 2926,\n",
              " 59864,\n",
              " 40961,\n",
              " 8304,\n",
              " 2103,\n",
              " 8602,\n",
              " 56151,\n",
              " 182,\n",
              " 15564,\n",
              " 22234,\n",
              " 2262,\n",
              " 15498,\n",
              " 871,\n",
              " 24784,\n",
              " 24308,\n",
              " 20,\n",
              " 3,\n",
              " 394,\n",
              " 425,\n",
              " 5883,\n",
              " 869,\n",
              " 669,\n",
              " 8602,\n",
              " 3235,\n",
              " 1597,\n",
              " 11442,\n",
              " 307,\n",
              " 43231,\n",
              " 323,\n",
              " 7929,\n",
              " 105,\n",
              " 3,\n",
              " 0,\n",
              " 0,\n",
              " 0,\n",
              " 0,\n",
              " 0,\n",
              " 0,\n",
              " 0,\n",
              " 0,\n",
              " 0,\n",
              " 0,\n",
              " 0,\n",
              " 0,\n",
              " 0,\n",
              " 0,\n",
              " 0,\n",
              " 0,\n",
              " 0,\n",
              " 0,\n",
              " 0,\n",
              " 0,\n",
              " 0,\n",
              " 0,\n",
              " 0,\n",
              " 0,\n",
              " 0,\n",
              " 0,\n",
              " 0,\n",
              " 0,\n",
              " 0,\n",
              " 0,\n",
              " 0,\n",
              " 0,\n",
              " 0,\n",
              " 0,\n",
              " 0,\n",
              " 0,\n",
              " 0,\n",
              " 0,\n",
              " 0,\n",
              " 0,\n",
              " 0,\n",
              " 0,\n",
              " 0,\n",
              " 0,\n",
              " 0,\n",
              " 0,\n",
              " 0,\n",
              " 0,\n",
              " 0,\n",
              " 0,\n",
              " 0,\n",
              " 0,\n",
              " 0,\n",
              " 0,\n",
              " 0,\n",
              " 0,\n",
              " 0,\n",
              " 0,\n",
              " 0,\n",
              " 0,\n",
              " 0,\n",
              " 0,\n",
              " 0,\n",
              " 0,\n",
              " 0,\n",
              " 0,\n",
              " 0,\n",
              " 0,\n",
              " 0,\n",
              " 0,\n",
              " 0,\n",
              " 0,\n",
              " 0,\n",
              " 0,\n",
              " 0,\n",
              " 0,\n",
              " 0,\n",
              " 0,\n",
              " 0,\n",
              " 0,\n",
              " 0,\n",
              " 0,\n",
              " 0,\n",
              " 0,\n",
              " 0,\n",
              " 0,\n",
              " 0,\n",
              " 0,\n",
              " 0,\n",
              " 0,\n",
              " 0,\n",
              " 0,\n",
              " 0,\n",
              " 0,\n",
              " 0,\n",
              " 0,\n",
              " 0,\n",
              " 0,\n",
              " 0,\n",
              " 0,\n",
              " 0,\n",
              " 0,\n",
              " 0,\n",
              " 0,\n",
              " 0,\n",
              " 0,\n",
              " 0,\n",
              " 0,\n",
              " 0,\n",
              " 0,\n",
              " 0,\n",
              " 0,\n",
              " 0,\n",
              " 0,\n",
              " 0,\n",
              " 0,\n",
              " 0,\n",
              " 0,\n",
              " 0,\n",
              " 0,\n",
              " 0,\n",
              " 0,\n",
              " 0,\n",
              " 0,\n",
              " 0,\n",
              " 0,\n",
              " 0,\n",
              " 0,\n",
              " 0,\n",
              " 0,\n",
              " 0,\n",
              " 0,\n",
              " 0,\n",
              " 0,\n",
              " 0,\n",
              " 0,\n",
              " 0,\n",
              " 0,\n",
              " 0,\n",
              " 0,\n",
              " 0,\n",
              " 0,\n",
              " 0,\n",
              " 0,\n",
              " 0,\n",
              " 0,\n",
              " 0,\n",
              " 0,\n",
              " 0,\n",
              " 0,\n",
              " 0,\n",
              " 0,\n",
              " 0,\n",
              " 0,\n",
              " 0,\n",
              " 0,\n",
              " 0,\n",
              " 0,\n",
              " 0,\n",
              " 0,\n",
              " 0,\n",
              " 0,\n",
              " 0,\n",
              " 0,\n",
              " 0,\n",
              " 0,\n",
              " 0,\n",
              " 0,\n",
              " 0,\n",
              " 0,\n",
              " 0,\n",
              " 0,\n",
              " 0,\n",
              " 0,\n",
              " 0,\n",
              " 0,\n",
              " 0,\n",
              " 0,\n",
              " 0,\n",
              " 0,\n",
              " 0,\n",
              " 0,\n",
              " 0,\n",
              " 0,\n",
              " 0,\n",
              " 0,\n",
              " 0,\n",
              " 0,\n",
              " 0,\n",
              " 0,\n",
              " 0,\n",
              " 0,\n",
              " 0,\n",
              " 0,\n",
              " 0,\n",
              " 0,\n",
              " 0,\n",
              " 0,\n",
              " 0,\n",
              " 0,\n",
              " 0,\n",
              " 0,\n",
              " 0,\n",
              " 0,\n",
              " 0,\n",
              " 0,\n",
              " 0,\n",
              " 0,\n",
              " 0,\n",
              " 0,\n",
              " 0,\n",
              " 0,\n",
              " 0,\n",
              " 0,\n",
              " 0,\n",
              " 0,\n",
              " 0,\n",
              " 0,\n",
              " 0,\n",
              " 0,\n",
              " 0,\n",
              " 0,\n",
              " 0,\n",
              " 0,\n",
              " 0,\n",
              " 0,\n",
              " 0,\n",
              " 0,\n",
              " 0,\n",
              " 0,\n",
              " 0,\n",
              " 0,\n",
              " 0,\n",
              " 0,\n",
              " 0,\n",
              " 0,\n",
              " 0,\n",
              " 0,\n",
              " 0,\n",
              " 0,\n",
              " 0,\n",
              " 0,\n",
              " 0,\n",
              " 0,\n",
              " 0,\n",
              " 0,\n",
              " 0,\n",
              " 0,\n",
              " 0,\n",
              " 0,\n",
              " 0,\n",
              " 0,\n",
              " 0,\n",
              " 0,\n",
              " 0,\n",
              " 0,\n",
              " 0,\n",
              " 0,\n",
              " 0,\n",
              " 0,\n",
              " 0,\n",
              " 0,\n",
              " 0,\n",
              " 0,\n",
              " 0,\n",
              " 0,\n",
              " 0,\n",
              " 0,\n",
              " 0,\n",
              " 0,\n",
              " 0,\n",
              " 0,\n",
              " 0,\n",
              " 0,\n",
              " 0,\n",
              " 0,\n",
              " 0,\n",
              " 0,\n",
              " 0,\n",
              " 0,\n",
              " 0,\n",
              " 0,\n",
              " 0,\n",
              " 0,\n",
              " 0,\n",
              " 0,\n",
              " 0,\n",
              " 0,\n",
              " 0,\n",
              " 0,\n",
              " 0,\n",
              " 0,\n",
              " 0,\n",
              " 0,\n",
              " 0,\n",
              " 0,\n",
              " 0,\n",
              " 0,\n",
              " 0,\n",
              " 0,\n",
              " 0,\n",
              " 0,\n",
              " 0,\n",
              " 0,\n",
              " 0,\n",
              " 0,\n",
              " 0,\n",
              " 0,\n",
              " 0,\n",
              " 0,\n",
              " 0,\n",
              " 0,\n",
              " 0,\n",
              " 0,\n",
              " 0,\n",
              " 0,\n",
              " 0,\n",
              " 0,\n",
              " 0,\n",
              " 0,\n",
              " 0,\n",
              " 0,\n",
              " 0,\n",
              " 0,\n",
              " 0,\n",
              " 0,\n",
              " 0,\n",
              " 0,\n",
              " 0,\n",
              " 0,\n",
              " 0,\n",
              " 0,\n",
              " 0,\n",
              " 0,\n",
              " 0,\n",
              " 0,\n",
              " 0,\n",
              " 0,\n",
              " 0,\n",
              " 0,\n",
              " 0,\n",
              " 0,\n",
              " 0,\n",
              " 0,\n",
              " 0,\n",
              " 0,\n",
              " 0,\n",
              " 0,\n",
              " 0,\n",
              " 0,\n",
              " 0,\n",
              " 0,\n",
              " 0,\n",
              " 0,\n",
              " 0,\n",
              " 0,\n",
              " 0,\n",
              " 0,\n",
              " 0,\n",
              " 0,\n",
              " 0,\n",
              " 0,\n",
              " 0]"
            ]
          },
          "metadata": {},
          "execution_count": 24
        }
      ]
    },
    {
      "cell_type": "code",
      "metadata": {
        "colab": {
          "base_uri": "https://localhost:8080/"
        },
        "id": "sIZ4vY0r3sBO",
        "outputId": "a03218cd-ee52-4db8-86af-e8d38d5e639c"
      },
      "source": [
        "print(arabert_tokenizer.decode(train_encodings['input_ids'][0]))"
      ],
      "execution_count": 23,
      "outputs": [
        {
          "output_type": "stream",
          "name": "stdout",
          "text": [
            "[CLS] هجرة الطيور هي رحلة موسمية تقوم بها أسراب من الطيور قاطعين مسافات هائلة عبر الصحاري وقمم الجبال العالية والمحيطات. تصل هذه الطيور إلى هدفها في وقت واحد يتطابق مع الوقت التي وصلت فيه في العام السابق. بعض الأنواع تصل المسافة التي تقطعها في هجرتها إلى 50 الف كيلومتر في السنة ، البعض الآخر تستمر بالطيران بدون انقطاع لمدة تصل إلى 100 ساعة مع منظومة تحديد دقيقة للاتجاهات عند تلك الطيور. بعض الأنواع لها القدرة على الطيران لمسافات طويلة ، ليلا ونهارا ، دون توقف. هذه القدرة هامة للغاية للتمكن من عبور الصحاري الكبرى الممتدة لالاف الكيلومترات بدون طعام أو ماء. قبل بدء رحلتهم لعبور الصحراء تقوم الطيور بأكل طعام غني بالدهون مثل حبوب الذرة. [SEP] ما الذي تعتمد عليه بعض الطيور الكبيرة ذات الجناحين لمساعدتها على الارتفاع ؟ [SEP] [PAD] [PAD] [PAD] [PAD] [PAD] [PAD] [PAD] [PAD] [PAD] [PAD] [PAD] [PAD] [PAD] [PAD] [PAD] [PAD] [PAD] [PAD] [PAD] [PAD] [PAD] [PAD] [PAD] [PAD] [PAD] [PAD] [PAD] [PAD] [PAD] [PAD] [PAD] [PAD] [PAD] [PAD] [PAD] [PAD] [PAD] [PAD] [PAD] [PAD] [PAD] [PAD] [PAD] [PAD] [PAD] [PAD] [PAD] [PAD] [PAD] [PAD] [PAD] [PAD] [PAD] [PAD] [PAD] [PAD] [PAD] [PAD] [PAD] [PAD] [PAD] [PAD] [PAD] [PAD] [PAD] [PAD] [PAD] [PAD] [PAD] [PAD] [PAD] [PAD] [PAD] [PAD] [PAD] [PAD] [PAD] [PAD] [PAD] [PAD] [PAD] [PAD] [PAD] [PAD] [PAD] [PAD] [PAD] [PAD] [PAD] [PAD] [PAD] [PAD] [PAD] [PAD] [PAD] [PAD] [PAD] [PAD] [PAD] [PAD] [PAD] [PAD] [PAD] [PAD] [PAD] [PAD] [PAD] [PAD] [PAD] [PAD] [PAD] [PAD] [PAD] [PAD] [PAD] [PAD] [PAD] [PAD] [PAD] [PAD] [PAD] [PAD] [PAD] [PAD] [PAD] [PAD] [PAD] [PAD] [PAD] [PAD] [PAD] [PAD] [PAD] [PAD] [PAD] [PAD] [PAD] [PAD] [PAD] [PAD] [PAD] [PAD] [PAD] [PAD] [PAD] [PAD] [PAD] [PAD] [PAD] [PAD] [PAD] [PAD] [PAD] [PAD] [PAD] [PAD] [PAD] [PAD] [PAD] [PAD] [PAD] [PAD] [PAD] [PAD] [PAD] [PAD] [PAD] [PAD] [PAD] [PAD] [PAD] [PAD] [PAD] [PAD] [PAD] [PAD] [PAD] [PAD] [PAD] [PAD] [PAD] [PAD] [PAD] [PAD] [PAD] [PAD] [PAD] [PAD] [PAD] [PAD] [PAD] [PAD] [PAD] [PAD] [PAD] [PAD] [PAD] [PAD] [PAD] [PAD] [PAD] [PAD] [PAD] [PAD] [PAD] [PAD] [PAD] [PAD] [PAD] [PAD] [PAD] [PAD] [PAD] [PAD] [PAD] [PAD] [PAD] [PAD] [PAD] [PAD] [PAD] [PAD] [PAD] [PAD] [PAD] [PAD] [PAD] [PAD] [PAD] [PAD] [PAD] [PAD] [PAD] [PAD] [PAD] [PAD] [PAD] [PAD] [PAD] [PAD] [PAD] [PAD] [PAD] [PAD] [PAD] [PAD] [PAD] [PAD] [PAD] [PAD] [PAD] [PAD] [PAD] [PAD] [PAD] [PAD] [PAD] [PAD] [PAD] [PAD] [PAD] [PAD] [PAD] [PAD] [PAD] [PAD] [PAD] [PAD] [PAD] [PAD] [PAD] [PAD] [PAD] [PAD] [PAD] [PAD] [PAD] [PAD] [PAD] [PAD] [PAD] [PAD] [PAD] [PAD] [PAD] [PAD] [PAD] [PAD] [PAD] [PAD] [PAD] [PAD] [PAD] [PAD] [PAD] [PAD] [PAD] [PAD] [PAD] [PAD] [PAD] [PAD] [PAD] [PAD] [PAD] [PAD] [PAD] [PAD] [PAD] [PAD] [PAD] [PAD] [PAD] [PAD] [PAD] [PAD] [PAD] [PAD] [PAD] [PAD] [PAD] [PAD] [PAD] [PAD] [PAD] [PAD] [PAD] [PAD] [PAD] [PAD] [PAD] [PAD] [PAD] [PAD] [PAD] [PAD] [PAD] [PAD] [PAD] [PAD] [PAD] [PAD] [PAD] [PAD] [PAD] [PAD] [PAD] [PAD] [PAD] [PAD] [PAD] [PAD] [PAD] [PAD] [PAD] [PAD] [PAD] [PAD] [PAD] [PAD] [PAD] [PAD] [PAD]\n"
          ]
        }
      ]
    },
    {
      "cell_type": "code",
      "metadata": {
        "id": "1sHK9CD_3u_l"
      },
      "source": [
        ""
      ],
      "execution_count": null,
      "outputs": []
    }
  ]
}